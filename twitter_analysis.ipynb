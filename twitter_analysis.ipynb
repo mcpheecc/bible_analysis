{
 "cells": [
  {
   "cell_type": "code",
   "execution_count": 1,
   "metadata": {},
   "outputs": [],
   "source": [
    "import pandas as pd\n",
    "import operator\n",
    "import seaborn as sns\n",
    "import matplotlib.pyplot as plt"
   ]
  },
  {
   "cell_type": "code",
   "execution_count": 2,
   "metadata": {},
   "outputs": [],
   "source": [
    "df = pd.read_csv('t_kjv.csv')"
   ]
  },
  {
   "cell_type": "code",
   "execution_count": 3,
   "metadata": {},
   "outputs": [],
   "source": [
    "token_dict = {}"
   ]
  },
  {
   "cell_type": "code",
   "execution_count": 4,
   "metadata": {},
   "outputs": [],
   "source": [
    "def get_ngram(string,n):\n",
    "    token_list = string.split(' ')\n",
    "    token_list = list(map(lambda x: x.lower().strip('.'),token_list))\n",
    "    result = []\n",
    "    for i in range(len(token_list)):\n",
    "        if i < len(token_list)-n+1:\n",
    "            temp = []\n",
    "            for x in range(n):\n",
    "                temp.append(token_list[i+x])\n",
    "            result.append(tuple(temp))\n",
    "    return result"
   ]
  },
  {
   "cell_type": "code",
   "execution_count": 33,
   "metadata": {},
   "outputs": [],
   "source": [
    "gen_df = df[df['b']==1]"
   ]
  },
  {
   "cell_type": "code",
   "execution_count": 34,
   "metadata": {},
   "outputs": [
    {
     "data": {
      "text/plain": [
       "1533"
      ]
     },
     "execution_count": 34,
     "metadata": {},
     "output_type": "execute_result"
    }
   ],
   "source": [
    "len(gen_df)"
   ]
  },
  {
   "cell_type": "code",
   "execution_count": 39,
   "metadata": {},
   "outputs": [],
   "source": [
    "for index, row in gen_df.iterrows():\n",
    "    token_list = get_ngram(row['t'],3)\n",
    "    for ngram in token_list:\n",
    "        if ngram in token_dict:\n",
    "            token_dict[ngram] += 1\n",
    "        else:\n",
    "            token_dict[ngram] = 1"
   ]
  },
  {
   "cell_type": "code",
   "execution_count": 40,
   "metadata": {},
   "outputs": [
    {
     "data": {
      "text/plain": [
       "26986"
      ]
     },
     "execution_count": 40,
     "metadata": {},
     "output_type": "execute_result"
    }
   ],
   "source": [
    "len(token_dict)"
   ]
  },
  {
   "cell_type": "code",
   "execution_count": 5,
   "metadata": {},
   "outputs": [],
   "source": [
    "book_df_list = []\n",
    "for i in range(1,67):\n",
    "    book_df_list.append([df[df['b']==i],{}])"
   ]
  },
  {
   "cell_type": "code",
   "execution_count": 6,
   "metadata": {},
   "outputs": [],
   "source": [
    "for book, book_dict in book_df_list:\n",
    "    for index, row in book.iterrows():\n",
    "        token_list = get_ngram(row['t'],3)\n",
    "        for ngram in token_list:\n",
    "            if ngram in token_dict:\n",
    "                token_dict[ngram] += 1\n",
    "            else:\n",
    "                token_dict[ngram] = 1\n",
    "            if ngram in book_dict:\n",
    "                book_dict[ngram] += 1\n",
    "            else:\n",
    "                book_dict[ngram] = 1"
   ]
  },
  {
   "cell_type": "code",
   "execution_count": 7,
   "metadata": {},
   "outputs": [
    {
     "data": {
      "text/plain": [
       "422162"
      ]
     },
     "execution_count": 7,
     "metadata": {},
     "output_type": "execute_result"
    }
   ],
   "source": [
    "len(token_dict)"
   ]
  },
  {
   "cell_type": "code",
   "execution_count": 8,
   "metadata": {},
   "outputs": [],
   "source": [
    "ngram_sort = sorted(token_dict.items(), key=operator.itemgetter(1))"
   ]
  },
  {
   "cell_type": "code",
   "execution_count": 9,
   "metadata": {},
   "outputs": [],
   "source": [
    "ngram_sort.reverse()"
   ]
  },
  {
   "cell_type": "code",
   "execution_count": 11,
   "metadata": {},
   "outputs": [],
   "source": [
    "most_ngrams = ngram_sort[0:11]"
   ]
  },
  {
   "cell_type": "code",
   "execution_count": 12,
   "metadata": {},
   "outputs": [],
   "source": [
    "data_set = []\n",
    "for key,value in most_ngrams:\n",
    "    example_list = []\n",
    "    for i in range(len(book_df_list)):\n",
    "        if key in book_df_list[i][1]:\n",
    "            example_list.append([i+1,book_df_list[i][1][key]])\n",
    "    data_set.append([key,value,example_list])"
   ]
  },
  {
   "cell_type": "code",
   "execution_count": 14,
   "metadata": {},
   "outputs": [
    {
     "data": {
      "image/png": "[encoded data removed]",
      "text/plain": [
       "<Figure size 432x288 with 4 Axes>"
      ]
     },
     "metadata": {
      "needs_background": "light"
     },
     "output_type": "display_data"
    }
   ],
   "source": [
    "plt.subplot(3,2,1)\n",
    "test_data_set = data_set[0]\n",
    "x,y = zip(*test_data_set[2])\n",
    "plt.bar(x,y)\n",
    "plt.title(' '.join(test_data_set[0]))\n",
    "plt.subplot(3,2,2)\n",
    "test_data_set = data_set[1]\n",
    "x,y = zip(*test_data_set[2])\n",
    "plt.bar(x,y)\n",
    "plt.title(' '.join(test_data_set[0]))\n",
    "plt.subplot(3,2,5)\n",
    "test_data_set = data_set[2]\n",
    "x,y = zip(*test_data_set[2])\n",
    "plt.bar(x,y)\n",
    "plt.title(' '.join(test_data_set[0]))\n",
    "plt.subplot(3,2,6)\n",
    "test_data_set = data_set[3]\n",
    "x,y = zip(*test_data_set[2])\n",
    "plt.bar(x,y)\n",
    "plt.title(' '.join(test_data_set[0]))\n",
    "plt.show()"
   ]
  },
  {
   "cell_type": "code",
   "execution_count": 15,
   "metadata": {},
   "outputs": [
    {
     "data": {
      "image/png": "[encoded data removed]",
      "text/plain": [
       "<Figure size 432x288 with 11 Axes>"
      ]
     },
     "metadata": {
      "needs_background": "light"
     },
     "output_type": "display_data"
    }
   ],
   "source": [
    "for i in range(len(data_set)):\n",
    "    test_data_set = data_set[i]\n",
    "    if i<4:\n",
    "        plt.subplot(5,4,i+1)\n",
    "    elif i<8:\n",
    "        plt.subplot(5,4,i+5)\n",
    "    else:\n",
    "        plt.subplot(5,4,i+9)\n",
    "    x,y = zip(*test_data_set[2])\n",
    "    plt.bar(x,y)\n",
    "    plt.title(' '.join(test_data_set[0]))\n",
    "plt.show()"
   ]
  },
  {
   "cell_type": "code",
   "execution_count": 16,
   "metadata": {},
   "outputs": [],
   "source": [
    "old_df_list = book_df_list[0:38]"
   ]
  },
  {
   "cell_type": "code",
   "execution_count": 17,
   "metadata": {},
   "outputs": [],
   "source": [
    "new_df_list = book_df_list[39:]"
   ]
  },
  {
   "cell_type": "code",
   "execution_count": 18,
   "metadata": {},
   "outputs": [],
   "source": [
    "old_test_token = {}"
   ]
  },
  {
   "cell_type": "code",
   "execution_count": 19,
   "metadata": {},
   "outputs": [],
   "source": [
    "new_test_token = {}"
   ]
  },
  {
   "cell_type": "code",
   "execution_count": 20,
   "metadata": {},
   "outputs": [],
   "source": [
    "for book_df, book_dict in old_df_list:\n",
    "    for i in book_dict:\n",
    "        if i in old_test_token:\n",
    "            old_test_token[i] += book_dict[i]\n",
    "        else:\n",
    "            old_test_token[i] = book_dict[i]\n",
    "for book_df, book_dict in new_df_list:\n",
    "    for i in book_dict:\n",
    "        if i in new_test_token:\n",
    "            new_test_token[i] += book_dict[i]\n",
    "        else:\n",
    "            new_test_token[i] = book_dict[i]"
   ]
  },
  {
   "cell_type": "code",
   "execution_count": 21,
   "metadata": {},
   "outputs": [],
   "source": [
    "ngram_sort_old = sorted(old_test_token.items(), key=operator.itemgetter(1))"
   ]
  },
  {
   "cell_type": "code",
   "execution_count": 22,
   "metadata": {},
   "outputs": [],
   "source": [
    "ngram_sort_new = sorted(new_test_token.items(), key=operator.itemgetter(1))"
   ]
  },
  {
   "cell_type": "code",
   "execution_count": 23,
   "metadata": {},
   "outputs": [],
   "source": [
    "ngram_sort_old.reverse()\n",
    "ngram_sort_new.reverse()"
   ]
  },
  {
   "cell_type": "code",
   "execution_count": null,
   "metadata": {},
   "outputs": [],
   "source": []
  }
 ],
 "metadata": {
  "kernelspec": {
   "display_name": "Python 3",
   "language": "python",
   "name": "python3"
  },
  "language_info": {
   "codemirror_mode": {
    "name": "ipython",
    "version": 3
   },
   "file_extension": ".py",
   "mimetype": "text/x-python",
   "name": "python",
   "nbconvert_exporter": "python",
   "pygments_lexer": "ipython3",
   "version": "3.7.1"
  }
 },
 "nbformat": 4,
 "nbformat_minor": 2
}
